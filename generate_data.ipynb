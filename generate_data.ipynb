{
 "cells": [
  {
   "cell_type": "code",
   "execution_count": 3,
   "id": "8ac27391",
   "metadata": {},
   "outputs": [
    {
     "name": "stderr",
     "output_type": "stream",
     "text": [
      "100%|█████████████████████████████████| 100000/100000 [00:24<00:00, 4115.53it/s]\n"
     ]
    }
   ],
   "source": [
    "#!/usr/bin/env python\n",
    "# coding: utf-8\n",
    "\n",
    "# In[2]:\n",
    "\n",
    "from random import choices, getrandbits, randint\n",
    "\n",
    "import numpy as np\n",
    "from tqdm import tqdm\n",
    "\n",
    "leters = np.array([chr(c) for c in range(ord(\"a\"), ord(\"z\") + 1)])\n",
    "numbers = np.array([chr(c) for c in range(ord(\"0\"), ord(\"9\") + 1)])\n",
    "genres = np.array([\"Action\",\n",
    "\"Comedy\",\n",
    "\"Drama\",\n",
    "\"Fantasy\",\n",
    "\"Horror\",\n",
    "\"Mystery\",\n",
    "\"Romance\",\n",
    "\"Thriller\",\n",
    "\"Western\"])\n",
    "\n",
    "\n",
    "def random_string(size: int) -> str:\n",
    "    result = \"\".join(np.random.choice(leters, size))\n",
    "    return result\n",
    "\n",
    "def random_year() -> str:\n",
    "    if(np.random.choice([0, 1], 1)):\n",
    "        result = \"19\" + \"\".join(np.random.choice(numbers, 2))\n",
    "    else:\n",
    "        result = \"20\" + \"\".join(np.random.choice(numbers, 2))\n",
    "    return result\n",
    "\n",
    "def random_rating() -> str:\n",
    "    result = \"\".join(np.random.choice([\"6\", \"7\", \"8\", \"9\"], 1))\n",
    "    result += \".\"\n",
    "    result += \"\".join(np.random.choice(numbers, 1))\n",
    "    return result\n",
    "\n",
    "def random_genre() -> str:\n",
    "    return np.random.choice(genres, 1)\n",
    "    \n",
    "def main() -> None:\n",
    "    size = 100_000\n",
    "    \n",
    "    with open(\"random.redis\", \"w\") as f:\n",
    "        \n",
    "        for ind in tqdm(range(size)):\n",
    "            items = \"\".join(\"HSET \\\"movie:\")\n",
    "            items += \"\".join(str(ind))\n",
    "            items += \"\".join(\"\\\" title \\\"\")\n",
    "            items += \"\".join(random_string(500)) \n",
    "            items += \"\".join(\"\\\" genre \\\"\")\n",
    "            items += \"\".join(random_genre())\n",
    "            items += \"\".join(\"\\\" rating \")\n",
    "            items += \"\".join(random_rating())\n",
    "            items += \"\".join(\" release_year \")\n",
    "            items += \"\".join(random_year())\n",
    "            items += \"\".join(\"\\n\")\n",
    "            f.write(items)\n",
    "\n",
    "\n",
    "if __name__ == \"__main__\":\n",
    "    main()"
   ]
  },
  {
   "cell_type": "code",
   "execution_count": null,
   "id": "4de18295",
   "metadata": {},
   "outputs": [],
   "source": []
  }
 ],
 "metadata": {
  "kernelspec": {
   "display_name": "Python 3 (ipykernel)",
   "language": "python",
   "name": "python3"
  },
  "language_info": {
   "codemirror_mode": {
    "name": "ipython",
    "version": 3
   },
   "file_extension": ".py",
   "mimetype": "text/x-python",
   "name": "python",
   "nbconvert_exporter": "python",
   "pygments_lexer": "ipython3",
   "version": "3.8.10"
  }
 },
 "nbformat": 4,
 "nbformat_minor": 5
}
